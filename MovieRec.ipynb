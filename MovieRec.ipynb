{
 "cells": [
  {
   "cell_type": "code",
   "execution_count": null,
   "metadata": {},
   "outputs": [],
   "source": [
    "import requests\n",
    "\n",
    "# Add your OMDb API key here\n",
    "OMDB_API_KEY = '9d99f484'  # Replace 'your_api_key_here' with your actual key\n",
    "\n",
    "def fetch_movie_data(title, api_key=OMDB_API_KEY):\n",
    "    url = f\"http://www.omdbapi.com/?t={title}&apikey={api_key}\"\n",
    "    response = requests.get(url)\n",
    "    \n",
    "    if response.status_code == 200:\n",
    "        data = response.json()\n",
    "        if data.get(\"Response\") == \"True\":\n",
    "            return {\n",
    "                \"Title\": data.get(\"Title\"),\n",
    "                \"Year\": data.get(\"Year\"),\n",
    "                \"Genre\": data.get(\"Genre\"),\n",
    "                \"Plot\": data.get(\"Plot\"),\n",
    "                \"Actors\": data.get(\"Actors\"),\n",
    "                \"Director\": data.get(\"Director\")\n",
    "            }\n",
    "        else:\n",
    "            return f\"No movie found for title: {title}\"\n",
    "    else:\n",
    "        return \"Error: Could not fetch data from OMDb.\"\n",
    "\n",
    "# Test the function\n",
    "movie_title = \"Inception\"  # You can change this to any movie title you like\n",
    "movie_data = fetch_movie_data(movie_title)\n",
    "print(movie_data)"
   ]
  },
  {
   "cell_type": "code",
   "execution_count": 16,
   "metadata": {},
   "outputs": [
    {
     "name": "stdout",
     "output_type": "stream",
     "text": [
      "The old, leather-bound backpack sat nestled among dusty boxes in the attic, a silent guardian of secrets. It belonged to Amelia's great-grandmother, a woman whispered to have traveled the world and lived a life full of adventure. No one knew the truth, though. The backpack was a relic, a story whispered through generations, until Amelia found it one rainy afternoon.\n",
      "\n",
      "It was heavier than it looked, the leather worn smooth and smelling of old parchment and forgotten journeys. Inside, Amelia found a worn map, the edges frayed and the ink faded, but the destination was clear – an island marked with a single, red X. Curiosity gnawed at her, a potent mix of fear and excitement.\n",
      "\n",
      "That night, Amelia dreamt. She was standing on a beach, waves crashing around her, the air thick with salt and the scent of exotic flowers. In her dream, the backpack pulsed with a soft, golden light. When she woke, she found herself strangely drawn to it.\n",
      "\n",
      "Amelia packed a few essentials, a flashlight, a granola bar, a water bottle, and, most importantly, the map. The moment she zipped the backpack closed, a wave of warmth washed over her, and the air around her shimmered.  The world around her blurred, then solidified, the attic replaced by the beach from her dream.\n",
      "\n",
      "The island was a paradise, untouched and filled with vibrant life. She encountered creatures from myth and legend, talking animals and shimmering, ethereal beings. Each step she took, the backpack pulsed, seemingly aware of her every need. It provided food, water, and even a change of clothes when she needed it.\n",
      "\n",
      "Over the next few weeks, Amelia explored the island, uncovering its mysteries and forging friendships with its inhabitants. She learned about the ancient magic woven into the land, the source of the backpack's power. It wasn't just a bag; it was a conduit, a connection to a forgotten magic, a magic that pulsed within her as well.\n",
      "\n",
      "Then, one day, the magic faltered. The backpack grew cold, its light dimming. Amelia knew it was time to leave. With a bittersweet pang, she bid farewell to her newfound friends and, as if by magic, found herself back in the attic, the backpack resting beside her, empty but for a single, glowing feather.\n",
      "\n",
      "The feather was her reminder, a tangible piece of a magic she knew she could tap into. The island, and its magic, were a part of her now.  Amelia knew she couldn't stay forever, but she wouldn't be the same girl who'd stumbled upon the backpack.  She was changed, forever touched by magic, and ready to face the world with newfound courage and a heart full of wonder. \n",
      "\n"
     ]
    }
   ],
   "source": [
    "import google.generativeai as genai\n",
    "import os\n",
    "\n",
    "# Configure the API with your key\n",
    "try:\n",
    "    genai.configure(api_key=os.environ[\"API_KEY\"])\n",
    "except KeyError:\n",
    "    raise ValueError(\"API_KEY environment variable not set.\")\n",
    "\n",
    "# Create the GenerativeModel instance\n",
    "model = genai.GenerativeModel(\"gemini-1.5-flash\")\n",
    "\n",
    "# Generate content\n",
    "try:\n",
    "    response = model.generate_content(\"Write a story about a magic backpack.\")\n",
    "    print(response.text)\n",
    "except Exception as e:\n",
    "    print(f\"An error occurred: {e}\")"
   ]
  }
 ],
 "metadata": {
  "kernelspec": {
   "display_name": "Python 3",
   "language": "python",
   "name": "python3"
  },
  "language_info": {
   "codemirror_mode": {
    "name": "ipython",
    "version": 3
   },
   "file_extension": ".py",
   "mimetype": "text/x-python",
   "name": "python",
   "nbconvert_exporter": "python",
   "pygments_lexer": "ipython3",
   "version": "3.9.9"
  }
 },
 "nbformat": 4,
 "nbformat_minor": 2
}
